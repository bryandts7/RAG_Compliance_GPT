{
 "cells": [
  {
   "cell_type": "code",
   "execution_count": 1,
   "metadata": {},
   "outputs": [],
   "source": [
    "import os\n",
    "from ragas import evaluate\n",
    "from datasets import Dataset\n",
    "from ragas.metrics import faithfulness, answer_relevancy, context_precision, context_recall, context_entity_recall, answer_similarity, answer_correctness\n",
    "from constants import EVAL_ANSWERS, EVAL_QUESTIONS\n",
    "from ragas.metrics.critique import harmfulness"
   ]
  },
  {
   "cell_type": "code",
   "execution_count": 1,
   "metadata": {},
   "outputs": [],
   "source": [
    "from langchain_core.chat_history import BaseChatMessageHistory\n",
    "from conversation import CustomChatMessageHistory\n",
    "\n",
    "store = {}\n",
    "def get_session_history(session_id: str) -> BaseChatMessageHistory:\n",
    "    if session_id not in store:\n",
    "        store[session_id] = CustomChatMessageHistory()\n",
    "    return store[session_id]"
   ]
  },
  {
   "cell_type": "code",
   "execution_count": 3,
   "metadata": {},
   "outputs": [],
   "source": [
    "from langchain_core.runnables.history import RunnableWithMessageHistory\n",
    "from rag import caller_with_context, chain_with_context\n",
    "\n",
    "full_chain_with_context = chain_with_context()\n",
    "full_chain_with_context_and_message_history = RunnableWithMessageHistory(\n",
    "    full_chain_with_context,\n",
    "    get_session_history,\n",
    "    input_messages_key=\"question\",\n",
    "    history_messages_key=\"history\",\n",
    ")"
   ]
  },
  {
   "cell_type": "code",
   "execution_count": 4,
   "metadata": {},
   "outputs": [
    {
     "name": "stdout",
     "output_type": "stream",
     "text": [
      "{'result': 'ketentuan_terkait', 'question': 'Apa saja yang termasuk dalam Bank Pelapor?', 'history': []}\n"
     ]
    },
    {
     "name": "stderr",
     "output_type": "stream",
     "text": [
      "c:\\Users\\Bryan Delton\\anaconda3\\envs\\ocbc_env\\lib\\site-packages\\langchain_core\\_api\\beta_decorator.py:87: LangChainBetaWarning: The function `loads` is in beta. It is actively being worked on, so the API may change.\n",
      "  warn_beta(\n",
      "Error in RootListenersTracer.on_chain_end callback: KeyError('output')\n"
     ]
    }
   ],
   "source": [
    "sess_id = \"X123\"\n",
    "\n",
    "result = full_chain_with_context_and_message_history.invoke(\n",
    "        {\"question\": \"Apa saja yang termasuk dalam Bank Pelapor?\"},\n",
    "        config={\"configurable\": {\"session_id\": sess_id}})"
   ]
  },
  {
   "cell_type": "code",
   "execution_count": 5,
   "metadata": {},
   "outputs": [
    {
     "data": {
      "text/plain": [
       "{'query': 'Apa saja yang termasuk dalam Bank Pelapor?',\n",
       " 'result': 'Dalam konteks yang diberikan, tidak ada informasi yang menjelaskan mengenai apa yang termasuk dalam Bank Pelapor.',\n",
       " 'source_documents': [Document(page_content='Bank yang bersangkutan”, dengan mencantumkan keterangan bahwa\\npencairannya hanya dapat dilakukan setelah mendapat persetujuan\\ntertulis dari Dewan Gubernur Bank Indonesia; dan\\nj. surat pernyataan dari calon pemegang saham bagi Bank yang berbentuk badan hukum Perseroan Terbatas/Perusahaan Daerah atau dari calon anggota bagi Bank yang berbentuk badan hukum Koperasi, bahwa setoran modal sebagaimana dimaksud dalam huruf i:\\n1. tidak berasal dari pinjaman atau fasilitas pembiayaan dalam bentuk\\napapun dari Bank dan/atau pihak lain di Indonesia; dan/atau\\n2. tidak berasal dari dan untuk tujuan pencucian uang (money laundering).\\n(2) Daftar calon pemegang saham atau daftar calon anggota sebagaimana dimaksud pada ayat (1) huruf b:\\na. dalam hal perorangan wajib disertai dengan:\\ndokumen sebagaimana dimaksud pada ayat (1) huruf c angka 1\\nsampai dengan angka 5;\\ndokumen dan/atau surat pernyataan lainnya yang diperlukan oleh\\nBank Indonesia;\\nb. dalam hal badan hukum wajib disertai dengan:', metadata={'_id': ObjectId('6684f3c456bbd34eaf442482'), 'Nomor Ketentuan': '11/1/PBI/2009', 'Ketentuan': 'Pasal 7 ', 'Jenis Ketentuan': 'PBI', 'Judul Ketentuan': 'Bank_Umum'}),\n",
       "  Document(page_content='b. data kepemilikan berupa:\\ndaftar calon pemegang saham berikut rincian besarnya masing-masing kepemilikan saham bagi Bank yang berbentuk badan hukum Perseroan Terbatas/Perusahaan Daerah;\\n2. daftar calon anggota berikut rincian jumlah simpanan pokok dan simpanan wajib, serta daftar hibah bagi Bank yang berbentuk badan hukum Koperasi;\\nc. daftar calon anggota Dewan Komisaris dan anggota Direksi disertai dengan:\\n1. pas foto 1 (satu) bulan terakhir ukuran 4 x 6 cm;\\n2. fotokopi tanda pengenal berupa Kartu Tanda Penduduk (KTP) atau paspor yang masih berlaku;\\n3. riwayat hidup;\\n4. surat pernyataan pribadi yang menyatakan tidak pernah melakukan tindakan tercela di bidang perbankan, keuangan, dan usaha lainnya, tidak pernah dihukum karena terbukti melakukan tindak pidana kejahatan, dan tidak sedang tercantum dalam Daftar Tidak Lulus sebagaimana diatur dalam ketentuan mengenai Penilaian\\nKemampuan dan Kepatutan (Fit and Proper Test) yang ditetapkan oleh Bank Indonesia; dan', metadata={'_id': ObjectId('6684f3c456bbd34eaf44247f'), 'Nomor Ketentuan': '11/1/PBI/2009', 'Ketentuan': 'Pasal 7 ', 'Jenis Ketentuan': 'PBI', 'Judul Ketentuan': 'Bank_Umum'}),\n",
       "  Document(page_content='4. Dalam hal Bank Pelapor bermaksud menambah user id sebagaimana dimaksud pada angka 3, Bank Pelapor dikenakan biaya untuk setiap penambahan user id tersebut yang terdiri dari biaya lisensi sistem LHBU dan biaya pemeliharaan sistem LHBU yang masing-masing besarnya ditetapkan dalam Surat Edaran Bank Indonesia yang mengatur mengenai biaya LHBU.\\n5. Untuk penambahan user id sebagaimana dimaksud pada angka 4, Bank Pelapor mengajukan permohonan secara tertulis yang ditujukan kepada Bank Indonesia c.q. Unit Khusus Manajemen Informasi, Jl. M.H. Thamrin No.2, Jakarta 10350.', metadata={'_id': ObjectId('6684f3c456bbd34eaf4424c1'), 'Nomor Ketentuan': '13/3/DPM/2011', 'Ketentuan': 'Romawi VI ', 'Jenis Ketentuan': 'SEBI', 'Judul Ketentuan': 'Laporan_Harian_Bank_Umum'}),\n",
       "  Document(page_content='Nomor Ketentuan: 11/1/PBI/2009\\nKetentuan: Pasal 3 \\nmemiliki Isi ketentuan sebagai berikut: Bentuk hukum suatu Bank dapat berupa:\\na. Perseroan Terbatas;\\nb. Perusahaan Daerah; atau\\nc. Koperasi.\\nserta memiliki penjelasan tambahan sebagai berikut: Huruf a\\nTermasuk bentuk hukum Perseroan Terbatas adalah Perusahaan\\nPerseroan (PERSERO) sebagaimana dimaksud dalam peraturan\\nperundang-undangan yang berlaku.\\nHuruf b\\nCukup jelas.\\nHuruf c\\nCukup jelas.', metadata={'_id': ObjectId('6684f3c456bbd34eaf44247a'), 'Nomor Ketentuan': '11/1/PBI/2009', 'Ketentuan': 'Pasal 3 ', 'Jenis Ketentuan': 'PBI', 'Judul Ketentuan': 'Bank_Umum'}),\n",
       "  Document(page_content='Nomor Ketentuan: 11/1/PBI/2009\\nKetentuan: Pasal 6 \\nmemiliki Isi ketentuan sebagai berikut: (1) Bank hanya dapat didirikan dan/atau dimiliki oleh:\\na. warga negara Indonesia dan/atau badan hukum Indonesia; atau\\nb. warga negara Indonesia dan/atau badan hukum Indonesia dengan warga negara asing dan/atau badan hukum asing secara kemitraan.\\n(2) Kepemilikan oleh warga negara asing dan/atau badan hukum asing sebagaimana dimaksud pada ayat (1) huruf b paling banyak sebesar 99% (sembilan puluh sembilan persen) dari modal disetor Bank.\\nserta memiliki penjelasan tambahan sebagai berikut: Cukup jelas.', metadata={'_id': ObjectId('6684f3c456bbd34eaf44247d'), 'Nomor Ketentuan': '11/1/PBI/2009', 'Ketentuan': 'Pasal 6 ', 'Jenis Ketentuan': 'PBI', 'Judul Ketentuan': 'Bank_Umum'}),\n",
       "  Document(page_content='6. Dalam hal diperlukan, sewaktu-waktu Bank Indonesia dapat melakukan review terhadap daftar Bank Pelapor yang datanya digunakan dalam perhitungan data JIBOR.\\n7. Berdasarkan review sebagaimana dimaksud pada angka 5 dan angka 6,Bank Indonesia dapat melakukan antara lain penambahan, pengurangan dan/atau penggantian Bank-Bank Pelapor yang datanya digunakan dalam perhitungan data JIBOR.', metadata={'_id': ObjectId('6684f3c456bbd34eaf4424c3'), 'Nomor Ketentuan': '13/3/DPM/2011', 'Ketentuan': 'Romawi VII ', 'Jenis Ketentuan': 'SEBI', 'Judul Ketentuan': 'Laporan_Harian_Bank_Umum'}),\n",
       "  Document(page_content='Nomor Ketentuan: 11/1/PBI/2009\\nKetentuan: Pasal 7 \\nmemiliki Isi ketentuan sebagai berikut: (1) Permohonan untuk mendapatkan persetujuan prinsip sebagaimana dimaksud dalam Pasal 4 ayat (2) huruf a diajukan paling kurang oleh salah satu calon pemilik kepada Gubernur Bank Indonesia, disertai dengan:\\na. rancangan akta pendirian badan hukum, termasuk rancangan Anggaran Dasar yang paling kurang memuat:\\n1. nama dan tempat kedudukan;\\n2. kegiatan usaha sebagai Bank;\\n3. permodalan;\\n4. kepemilikan;\\n5. wewenang, tanggung jawab, dan masa jabatan anggota Dewan Komisaris serta anggota Direksi; dan\\n6. persyaratan bahwa pengangkatan anggota Dewan Komisaris dan anggota Direksi harus memperoleh persetujuan Bank Indonesia terlebih dahulu;\\nb. data kepemilikan berupa:\\ndaftar calon pemegang saham berikut rincian besarnya masing-masing kepemilikan saham bagi Bank yang berbentuk badan hukum Perseroan Terbatas/Perusahaan Daerah;', metadata={'_id': ObjectId('6684f3c456bbd34eaf44247e'), 'Nomor Ketentuan': '11/1/PBI/2009', 'Ketentuan': 'Pasal 7 ', 'Jenis Ketentuan': 'PBI', 'Judul Ketentuan': 'Bank_Umum'}),\n",
       "  Document(page_content='Angka 1\\nYang dimaksud dengan pihak lain antara lain meliputi lembaga keuangan non-bank, lembaga pembiayaan atau perusahaan.\\nTidak termasuk dalam pengertian pihak lain adalah Pemerintah Pusat, Pemerintah Daerah, atau lembaga lain yang diberikan tugas oleh pemerintah untuk menyelamatkan Bank.\\nAngka 2\\nCukup jelas.\\nAyat (2)\\nHuruf a\\nAngka 1\\nCukup jelas.\\nAngka 2\\nDokumen dan/atau surat pernyataan yang dimaksud pada angka ini antara lain adalah surat pernyataan dari calon PSP yang menyatakan niat baik dan kesediaannya untuk melakukan upaya-upaya yang diperlukan apabila Bank menghadapi kesulitan permodalan maupun likuiditas.\\nHuruf b\\nAngka 1\\nCukup jelas.\\nAngka 2\\nCukup jelas.\\nAngka 3\\nCukup jelas.\\nAngka 4\\nCukup jelas.\\nAngka 5\\nCukup jelas.\\nAngka 6\\nKewajiban menyampaikan data mengenai struktur kelompok usaha dikecualikan dalam hal pemilik Bank adalah Pemerintah Pusat atau Pemerintah Daerah.', metadata={'_id': ObjectId('6684f3c456bbd34eaf442488'), 'Nomor Ketentuan': '11/1/PBI/2009', 'Ketentuan': 'Pasal 7 ', 'Jenis Ketentuan': 'PBI', 'Judul Ketentuan': 'Bank_Umum'}),\n",
       "  Document(page_content='5. laporan keuangan badan hukum yang telah diaudit oleh akuntan\\npublik dengan posisi paling lama 6 (enam) bulan sebelum tanggal\\npengajuan permohonan persetujuan prinsip;\\n6. seluruh struktur kelompok usaha yang terkait dengan Bank dan\\nbadan hukum pemilik Bank sampai dengan pemilik terakhir; dan\\n7. dokumen dan/atau surat pernyataan lainnya yang diperlukan oleh\\nBank Indonesia;\\nc. dalam hal pemerintah, baik pusat atau daerah, wajib disertai dengan:\\n1. fotokopi dokumen yang menyatakan keputusan pembentukan\\nPemerintah Daerah bagi Pemerintah Daerah;\\n2. dokumen sebagaimana dimaksud pada ayat (1) huruf c angka 1 sampai dengan angka 5 dari pejabat yang berwenang mewakili pemerintah;\\n3. Anggaran Pendapatan dan Belanja; dan\\n4. dokumen dan/atau surat pernyataan lainnya yang diperlukan oleh\\nBank Indonesia.\\nserta memiliki penjelasan tambahan sebagai berikut: Ayat (1)\\nSalah satu calon pemilik ini bertindak mewakili pemilik lainnya.\\nDalam pelaksanaannya, permohonan dapat diajukan oleh PSP atau', metadata={'_id': ObjectId('6684f3c456bbd34eaf442484'), 'Nomor Ketentuan': '11/1/PBI/2009', 'Ketentuan': 'Pasal 7 ', 'Jenis Ketentuan': 'PBI', 'Judul Ketentuan': 'Bank_Umum'})]}"
      ]
     },
     "execution_count": 5,
     "metadata": {},
     "output_type": "execute_result"
    }
   ],
   "source": [
    "result"
   ]
  },
  {
   "cell_type": "code",
   "execution_count": 21,
   "metadata": {},
   "outputs": [
    {
     "ename": "OpenAIKeyNotFound",
     "evalue": "OpenAI API key not found! Seems like your trying to use Ragas metrics with OpenAI endpoints. Please set 'OPENAI_API_KEY' environment variable",
     "output_type": "error",
     "traceback": [
      "\u001b[1;31m---------------------------------------------------------------------------\u001b[0m",
      "\u001b[1;31mOpenAIKeyNotFound\u001b[0m                         Traceback (most recent call last)",
      "Cell \u001b[1;32mIn[21], line 5\u001b[0m\n\u001b[0;32m      2\u001b[0m \u001b[38;5;28;01mfrom\u001b[39;00m \u001b[38;5;21;01mragas\u001b[39;00m\u001b[38;5;21;01m.\u001b[39;00m\u001b[38;5;21;01mlangchain\u001b[39;00m \u001b[38;5;28;01mimport\u001b[39;00m RagasEvaluatorChain\n\u001b[0;32m      4\u001b[0m \u001b[38;5;66;03m# make eval chains\u001b[39;00m\n\u001b[1;32m----> 5\u001b[0m eval_chains \u001b[38;5;241m=\u001b[39m {\n\u001b[0;32m      6\u001b[0m     m\u001b[38;5;241m.\u001b[39mname: RagasEvaluatorChain(metric\u001b[38;5;241m=\u001b[39mm) \n\u001b[0;32m      7\u001b[0m     \u001b[38;5;28;01mfor\u001b[39;00m m \u001b[38;5;129;01min\u001b[39;00m [faithfulness, answer_relevancy, context_relevancy, context_recall]\n\u001b[0;32m      8\u001b[0m }\n",
      "Cell \u001b[1;32mIn[21], line 6\u001b[0m, in \u001b[0;36m<dictcomp>\u001b[1;34m(.0)\u001b[0m\n\u001b[0;32m      2\u001b[0m \u001b[38;5;28;01mfrom\u001b[39;00m \u001b[38;5;21;01mragas\u001b[39;00m\u001b[38;5;21;01m.\u001b[39;00m\u001b[38;5;21;01mlangchain\u001b[39;00m \u001b[38;5;28;01mimport\u001b[39;00m RagasEvaluatorChain\n\u001b[0;32m      4\u001b[0m \u001b[38;5;66;03m# make eval chains\u001b[39;00m\n\u001b[0;32m      5\u001b[0m eval_chains \u001b[38;5;241m=\u001b[39m {\n\u001b[1;32m----> 6\u001b[0m     m\u001b[38;5;241m.\u001b[39mname: \u001b[43mRagasEvaluatorChain\u001b[49m\u001b[43m(\u001b[49m\u001b[43mmetric\u001b[49m\u001b[38;5;241;43m=\u001b[39;49m\u001b[43mm\u001b[49m\u001b[43m)\u001b[49m \n\u001b[0;32m      7\u001b[0m     \u001b[38;5;28;01mfor\u001b[39;00m m \u001b[38;5;129;01min\u001b[39;00m [faithfulness, answer_relevancy, context_relevancy, context_recall]\n\u001b[0;32m      8\u001b[0m }\n",
      "File \u001b[1;32mc:\\Users\\Bryan Delton\\anaconda3\\envs\\ocbc_env\\lib\\site-packages\\ragas\\langchain\\evalchain.py:29\u001b[0m, in \u001b[0;36mRagasEvaluatorChain.__init__\u001b[1;34m(self, **kwargs)\u001b[0m\n\u001b[0;32m     27\u001b[0m \u001b[38;5;28;01mdef\u001b[39;00m \u001b[38;5;21m__init__\u001b[39m(\u001b[38;5;28mself\u001b[39m, \u001b[38;5;241m*\u001b[39m\u001b[38;5;241m*\u001b[39mkwargs: t\u001b[38;5;241m.\u001b[39mAny):\n\u001b[0;32m     28\u001b[0m     \u001b[38;5;28msuper\u001b[39m()\u001b[38;5;241m.\u001b[39m\u001b[38;5;21m__init__\u001b[39m(\u001b[38;5;241m*\u001b[39m\u001b[38;5;241m*\u001b[39mkwargs)\n\u001b[1;32m---> 29\u001b[0m     \u001b[38;5;28;43mself\u001b[39;49m\u001b[38;5;241;43m.\u001b[39;49m\u001b[43mmetric\u001b[49m\u001b[38;5;241;43m.\u001b[39;49m\u001b[43minit_model\u001b[49m\u001b[43m(\u001b[49m\u001b[43m)\u001b[49m\n",
      "File \u001b[1;32mc:\\Users\\Bryan Delton\\anaconda3\\envs\\ocbc_env\\lib\\site-packages\\ragas\\metrics\\base.py:122\u001b[0m, in \u001b[0;36mMetricWithLLM.init_model\u001b[1;34m(self)\u001b[0m\n\u001b[0;32m    116\u001b[0m \u001b[38;5;250m\u001b[39m\u001b[38;5;124;03m\"\"\"\u001b[39;00m\n\u001b[0;32m    117\u001b[0m \u001b[38;5;124;03mInit any models in the metric, this is invoked before evaluate()\u001b[39;00m\n\u001b[0;32m    118\u001b[0m \u001b[38;5;124;03mto load all the models\u001b[39;00m\n\u001b[0;32m    119\u001b[0m \u001b[38;5;124;03mAlso check if the api key is valid for OpenAI and AzureOpenAI\u001b[39;00m\n\u001b[0;32m    120\u001b[0m \u001b[38;5;124;03m\"\"\"\u001b[39;00m\n\u001b[0;32m    121\u001b[0m \u001b[38;5;28;01mif\u001b[39;00m \u001b[38;5;28mhasattr\u001b[39m(\u001b[38;5;28mself\u001b[39m\u001b[38;5;241m.\u001b[39mllm, \u001b[38;5;124m\"\u001b[39m\u001b[38;5;124mvalidate_api_key\u001b[39m\u001b[38;5;124m\"\u001b[39m):\n\u001b[1;32m--> 122\u001b[0m     \u001b[38;5;28;43mself\u001b[39;49m\u001b[38;5;241;43m.\u001b[39;49m\u001b[43mllm\u001b[49m\u001b[38;5;241;43m.\u001b[39;49m\u001b[43mvalidate_api_key\u001b[49m\u001b[43m(\u001b[49m\u001b[43m)\u001b[49m\n\u001b[0;32m    123\u001b[0m \u001b[38;5;28;01mif\u001b[39;00m \u001b[38;5;28mhasattr\u001b[39m(\u001b[38;5;28mself\u001b[39m, \u001b[38;5;124m\"\u001b[39m\u001b[38;5;124membeddings\u001b[39m\u001b[38;5;124m\"\u001b[39m):\n\u001b[0;32m    124\u001b[0m     \u001b[38;5;66;03m# since we are using Langchain Embeddings directly, we need to check this\u001b[39;00m\n\u001b[0;32m    125\u001b[0m     \u001b[38;5;28;01mif\u001b[39;00m \u001b[38;5;28mhasattr\u001b[39m(\u001b[38;5;28mself\u001b[39m\u001b[38;5;241m.\u001b[39membeddings, \u001b[38;5;124m\"\u001b[39m\u001b[38;5;124mvalidate_api_key\u001b[39m\u001b[38;5;124m\"\u001b[39m):\n",
      "File \u001b[1;32mc:\\Users\\Bryan Delton\\anaconda3\\envs\\ocbc_env\\lib\\site-packages\\ragas\\llms\\openai.py:203\u001b[0m, in \u001b[0;36mOpenAI.validate_api_key\u001b[1;34m(self)\u001b[0m\n\u001b[0;32m    201\u001b[0m     \u001b[38;5;28mself\u001b[39m\u001b[38;5;241m.\u001b[39mapi_key \u001b[38;5;241m=\u001b[39m os_env_key\n\u001b[0;32m    202\u001b[0m \u001b[38;5;28;01melse\u001b[39;00m:\n\u001b[1;32m--> 203\u001b[0m     \u001b[38;5;28;01mraise\u001b[39;00m OpenAIKeyNotFound\n",
      "\u001b[1;31mOpenAIKeyNotFound\u001b[0m: OpenAI API key not found! Seems like your trying to use Ragas metrics with OpenAI endpoints. Please set 'OPENAI_API_KEY' environment variable"
     ]
    }
   ],
   "source": [
    "from ragas.metrics import faithfulness, answer_relevancy, context_relevancy, context_recall\n",
    "from ragas.langchain import RagasEvaluatorChain\n",
    "\n",
    "# make eval chains\n",
    "eval_chains = {\n",
    "    m.name: RagasEvaluatorChain(metric=m) \n",
    "    for m in [faithfulness, answer_relevancy, context_relevancy, context_recall]\n",
    "}\n"
   ]
  },
  {
   "cell_type": "code",
   "execution_count": null,
   "metadata": {},
   "outputs": [],
   "source": []
  },
  {
   "cell_type": "code",
   "execution_count": null,
   "metadata": {},
   "outputs": [],
   "source": []
  },
  {
   "cell_type": "code",
   "execution_count": null,
   "metadata": {},
   "outputs": [],
   "source": [
    "queries = EVAL_QUESTIONS\n",
    "ground_truths = EVAL_ANSWERS"
   ]
  },
  {
   "cell_type": "code",
   "execution_count": null,
   "metadata": {},
   "outputs": [],
   "source": [
    "sess_id = \"X123\"\n",
    "results = []\n",
    "contexts = []\n",
    "\n",
    "for query in queries:\n",
    "    result = full_chain_with_context_and_message_history.invoke(\n",
    "        {\"question\": query},\n",
    "        config={\"configurable\": {\"session_id\": sess_id}})\n",
    "    \n",
    "    print(result)\n",
    "    results.append(result['answer'])\n",
    "    sources = result[\"context\"]\n",
    "    contents = []\n",
    "    for i in range(len(sources)):\n",
    "        contents.append(sources[i][0].page_content)\n",
    "    contexts.append(contents)\n",
    "\n",
    "d = {\n",
    "    \"question\": queries,\n",
    "    \"answer\": results,\n",
    "    \"contexts\": contexts,\n",
    "    \"ground_truth\": ground_truths\n",
    "}\n",
    "\n",
    "dataset = Dataset.from_dict(d)"
   ]
  },
  {
   "cell_type": "code",
   "execution_count": null,
   "metadata": {},
   "outputs": [],
   "source": [
    "import json\n",
    "\n",
    "with open(\"dict_eval.json\", \"w\") as outfile: \n",
    "    json.dump(d, outfile)\n"
   ]
  },
  {
   "cell_type": "code",
   "execution_count": 10,
   "metadata": {},
   "outputs": [],
   "source": [
    "from azure_config import azure_llm, azure_embeddings\n",
    "llm = azure_llm()\n",
    "embeddings = azure_embeddings()\n"
   ]
  },
  {
   "cell_type": "code",
   "execution_count": 17,
   "metadata": {},
   "outputs": [],
   "source": [
    "import json\n",
    "with open('dict_eval.json') as json_file:\n",
    "    d = json.load(json_file)\n"
   ]
  },
  {
   "cell_type": "code",
   "execution_count": 18,
   "metadata": {},
   "outputs": [],
   "source": [
    "from datasets import Dataset\n",
    "dataset = Dataset.from_dict(d)"
   ]
  },
  {
   "cell_type": "code",
   "execution_count": 19,
   "metadata": {},
   "outputs": [
    {
     "data": {
      "text/plain": [
       "Dataset({\n",
       "    features: ['question', 'answer', 'contexts', 'ground_truths'],\n",
       "    num_rows: 15\n",
       "})"
      ]
     },
     "execution_count": 19,
     "metadata": {},
     "output_type": "execute_result"
    }
   ],
   "source": [
    "dataset"
   ]
  },
  {
   "cell_type": "code",
   "execution_count": 20,
   "metadata": {},
   "outputs": [
    {
     "ename": "ValueError",
     "evalue": "Dataset feature \"ground_truths\" should be of type Sequence[string], got <class 'datasets.features.features.Value'>",
     "output_type": "error",
     "traceback": [
      "\u001b[1;31m---------------------------------------------------------------------------\u001b[0m",
      "\u001b[1;31mValueError\u001b[0m                                Traceback (most recent call last)",
      "Cell \u001b[1;32mIn[20], line 5\u001b[0m\n\u001b[0;32m      2\u001b[0m \u001b[38;5;28;01mfrom\u001b[39;00m \u001b[38;5;21;01mragas\u001b[39;00m\u001b[38;5;21;01m.\u001b[39;00m\u001b[38;5;21;01mmetrics\u001b[39;00m\u001b[38;5;21;01m.\u001b[39;00m\u001b[38;5;21;01mcritique\u001b[39;00m \u001b[38;5;28;01mimport\u001b[39;00m harmfulness\n\u001b[0;32m      3\u001b[0m \u001b[38;5;28;01mfrom\u001b[39;00m \u001b[38;5;21;01mragas\u001b[39;00m \u001b[38;5;28;01mimport\u001b[39;00m evaluate\n\u001b[1;32m----> 5\u001b[0m score \u001b[38;5;241m=\u001b[39m \u001b[43mevaluate\u001b[49m\u001b[43m(\u001b[49m\u001b[43mdataset\u001b[49m\u001b[43m,\u001b[49m\u001b[43m \u001b[49m\u001b[43mmetrics\u001b[49m\u001b[38;5;241;43m=\u001b[39;49m\u001b[43m[\u001b[49m\u001b[43mfaithfulness\u001b[49m\u001b[43m,\u001b[49m\u001b[43m \u001b[49m\u001b[43manswer_relevancy\u001b[49m\u001b[43m,\u001b[49m\u001b[43m \u001b[49m\u001b[43mcontext_precision\u001b[49m\u001b[43m,\u001b[49m\u001b[43m \u001b[49m\u001b[43mcontext_recall\u001b[49m\u001b[43m,\u001b[49m\u001b[43m \u001b[49m\u001b[43manswer_similarity\u001b[49m\u001b[43m,\u001b[49m\u001b[43m \u001b[49m\u001b[43manswer_correctness\u001b[49m\u001b[43m,\u001b[49m\u001b[43m \u001b[49m\u001b[43mharmfulness\u001b[49m\u001b[43m]\u001b[49m\u001b[43m)\u001b[49m\n",
      "File \u001b[1;32mc:\\Users\\Bryan Delton\\anaconda3\\envs\\ocbc_env\\lib\\site-packages\\ragas\\evaluation.py:89\u001b[0m, in \u001b[0;36mevaluate\u001b[1;34m(dataset, metrics, column_map)\u001b[0m\n\u001b[0;32m     87\u001b[0m \u001b[38;5;66;03m# validation\u001b[39;00m\n\u001b[0;32m     88\u001b[0m validate_evaluation_modes(dataset, metrics)\n\u001b[1;32m---> 89\u001b[0m \u001b[43mvalidate_column_dtypes\u001b[49m\u001b[43m(\u001b[49m\u001b[43mdataset\u001b[49m\u001b[43m)\u001b[49m\n\u001b[0;32m     91\u001b[0m \u001b[38;5;66;03m# run the evaluation on dataset with different metrics\u001b[39;00m\n\u001b[0;32m     92\u001b[0m \u001b[38;5;66;03m# initialize all the models in the metrics\u001b[39;00m\n\u001b[0;32m     93\u001b[0m [m\u001b[38;5;241m.\u001b[39minit_model() \u001b[38;5;28;01mfor\u001b[39;00m m \u001b[38;5;129;01min\u001b[39;00m metrics]\n",
      "File \u001b[1;32mc:\\Users\\Bryan Delton\\anaconda3\\envs\\ocbc_env\\lib\\site-packages\\ragas\\validation.py:31\u001b[0m, in \u001b[0;36mvalidate_column_dtypes\u001b[1;34m(ds)\u001b[0m\n\u001b[0;32m     26\u001b[0m \u001b[38;5;28;01mif\u001b[39;00m column_names \u001b[38;5;129;01min\u001b[39;00m ds\u001b[38;5;241m.\u001b[39mfeatures:\n\u001b[0;32m     27\u001b[0m     \u001b[38;5;28;01mif\u001b[39;00m \u001b[38;5;129;01mnot\u001b[39;00m (\n\u001b[0;32m     28\u001b[0m         \u001b[38;5;28misinstance\u001b[39m(ds\u001b[38;5;241m.\u001b[39mfeatures[column_names], Sequence)\n\u001b[0;32m     29\u001b[0m         \u001b[38;5;129;01mand\u001b[39;00m ds\u001b[38;5;241m.\u001b[39mfeatures[column_names]\u001b[38;5;241m.\u001b[39mfeature\u001b[38;5;241m.\u001b[39mdtype \u001b[38;5;241m==\u001b[39m \u001b[38;5;124m\"\u001b[39m\u001b[38;5;124mstring\u001b[39m\u001b[38;5;124m\"\u001b[39m\n\u001b[0;32m     30\u001b[0m     ):\n\u001b[1;32m---> 31\u001b[0m         \u001b[38;5;28;01mraise\u001b[39;00m \u001b[38;5;167;01mValueError\u001b[39;00m(\n\u001b[0;32m     32\u001b[0m             \u001b[38;5;124mf\u001b[39m\u001b[38;5;124m'\u001b[39m\u001b[38;5;124mDataset feature \u001b[39m\u001b[38;5;124m\"\u001b[39m\u001b[38;5;132;01m{\u001b[39;00mcolumn_names\u001b[38;5;132;01m}\u001b[39;00m\u001b[38;5;124m\"\u001b[39m\u001b[38;5;124m should be of type\u001b[39m\u001b[38;5;124m'\u001b[39m\n\u001b[0;32m     33\u001b[0m             \u001b[38;5;124mf\u001b[39m\u001b[38;5;124m\"\u001b[39m\u001b[38;5;124m Sequence[string], got \u001b[39m\u001b[38;5;132;01m{\u001b[39;00m\u001b[38;5;28mtype\u001b[39m(ds\u001b[38;5;241m.\u001b[39mfeatures[column_names])\u001b[38;5;132;01m}\u001b[39;00m\u001b[38;5;124m\"\u001b[39m\n\u001b[0;32m     34\u001b[0m         )\n",
      "\u001b[1;31mValueError\u001b[0m: Dataset feature \"ground_truths\" should be of type Sequence[string], got <class 'datasets.features.features.Value'>"
     ]
    }
   ],
   "source": [
    "from ragas.metrics import faithfulness, answer_relevancy, context_precision, context_recall, answer_similarity, answer_correctness\n",
    "from ragas.metrics.critique import harmfulness\n",
    "from ragas import evaluate\n",
    "\n",
    "score = evaluate(dataset, metrics=[faithfulness, answer_relevancy, context_precision, context_recall, answer_similarity, answer_correctness, harmfulness])"
   ]
  },
  {
   "cell_type": "code",
   "execution_count": null,
   "metadata": {},
   "outputs": [],
   "source": [
    "from ragas.metrics.critique import harmfulness\n"
   ]
  },
  {
   "cell_type": "code",
   "execution_count": null,
   "metadata": {},
   "outputs": [],
   "source": [
    "score_df = asyncio.run(eval_run())"
   ]
  },
  {
   "cell_type": "code",
   "execution_count": null,
   "metadata": {},
   "outputs": [],
   "source": [
    "sources[1][0].page_content"
   ]
  },
  {
   "cell_type": "code",
   "execution_count": null,
   "metadata": {},
   "outputs": [],
   "source": [
    "sources"
   ]
  },
  {
   "cell_type": "code",
   "execution_count": 7,
   "metadata": {},
   "outputs": [
    {
     "name": "stderr",
     "output_type": "stream",
     "text": [
      "USER_AGENT environment variable not set, consider setting it to identify your requests.\n"
     ]
    },
    {
     "name": "stderr",
     "output_type": "stream",
     "text": [
      "c:\\Users\\Bryan Delton\\anaconda3\\envs\\ocbc_env\\lib\\site-packages\\langchain\\indexes\\vectorstore.py:129: UserWarning: Using InMemoryVectorStore as the default vectorstore.This memory store won't persist data. You should explicitlyspecify a vectorstore when using VectorstoreIndexCreator\n",
      "  warnings.warn(\n",
      "c:\\Users\\Bryan Delton\\anaconda3\\envs\\ocbc_env\\lib\\site-packages\\langchain_core\\_api\\deprecation.py:139: LangChainDeprecationWarning: The method `Chain.__call__` was deprecated in langchain 0.1.0 and will be removed in 0.3.0. Use invoke instead.\n",
      "  warn_deprecated(\n"
     ]
    },
    {
     "data": {
      "text/plain": [
       "'New York City got its name in 1664 when it was renamed after the Duke of York (later King James II of England). The city was originally called New Amsterdam when it was founded by Dutch colonists in 1626. However, when the English took control of the area, it was renamed New York in honor of the Duke of York, who was granted the lands by his brother, King Charles II. The name New York has remained ever since.'"
      ]
     },
     "execution_count": 7,
     "metadata": {},
     "output_type": "execute_result"
    }
   ],
   "source": [
    "from langchain.document_loaders import WebBaseLoader\n",
    "from langchain.indexes import VectorstoreIndexCreator\n",
    "from langchain.chains import RetrievalQA\n",
    "from langchain.chat_models import ChatOpenAI\n",
    "\n",
    "# load the Wikipedia page and create index\n",
    "loader = WebBaseLoader(\"https://en.wikipedia.org/wiki/New_York_City\")\n",
    "index = VectorstoreIndexCreator(embedding=embeddings).from_loaders([loader])\n",
    "\n",
    "# create the QA chain\n",
    "qa_chain = RetrievalQA.from_chain_type(\n",
    "    llm, retriever=index.vectorstore.as_retriever(), return_source_documents=True\n",
    ")\n",
    "\n",
    "# testing it out\n",
    "question = \"How did New York City get its name?\"\n",
    "result = qa_chain({\"query\": question})\n",
    "result[\"result\"]\n"
   ]
  },
  {
   "cell_type": "code",
   "execution_count": 8,
   "metadata": {},
   "outputs": [
    {
     "data": {
      "text/plain": [
       "{'query': 'How did New York City get its name?',\n",
       " 'result': 'New York City got its name in 1664 when it was renamed after the Duke of York (later King James II of England). The city was originally called New Amsterdam when it was founded by Dutch colonists in 1626. However, when the English took control of the area, it was renamed New York in honor of the Duke of York, who was granted the lands by his brother, King Charles II. The name New York has remained ever since.',\n",
       " 'source_documents': [Document(page_content=\"Etymology\\nSee also: Nicknames of New York City\\nIn 1664, New York was named in honor of the Duke of York (later King James\\xa0II of England).[34] James's elder brother, King Charles\\xa0II, appointed the Duke as proprietor of the former territory of New Netherland, including the city of New Amsterdam, when the Kingdom of England seized it from Dutch control.[35]\", metadata={'source': 'https://en.wikipedia.org/wiki/New_York_City', 'title': 'New York City - Wikipedia', 'language': 'en'}),\n",
       "  Document(page_content='New York City traces its origins to Fort Amsterdam and a trading post founded on Manhattan Island by Dutch colonists around 1624. The settlement was named New Amsterdam in 1626 and was chartered as a city in 1653. The city came under English control in 1664 and was temporarily renamed New York after King Charles II granted the lands to his brother, the Duke of York,[24] before being permanently renamed New York in November 1674. New York City was the U.S. capital from 1785 until 1790.[25] The modern city was formed by the 1898 consolidation of its five boroughs: Manhattan, Brooklyn, Queens, The Bronx, and Staten Island, and has been the largest U.S. city ever since.', metadata={'source': 'https://en.wikipedia.org/wiki/New_York_City', 'title': 'New York City - Wikipedia', 'language': 'en'}),\n",
       "  Document(page_content='Retrieved from \"https://en.wikipedia.org/w/index.php?title=New_York_City&oldid=1232361135\"', metadata={'source': 'https://en.wikipedia.org/wiki/New_York_City', 'title': 'New York City - Wikipedia', 'language': 'en'}),\n",
       "  Document(page_content='^ Nigro, Carmen. \"So, Why Do We Call It Gotham, Anyway?\", New York Public Library,  January 25, 2011. Accessed March 3, 2023. \"It is here that we learn that the term Gotham is tied to the author Washington Irving, famous for his short stories \\'The Legend of Sleepy Hollow,\\' and \\'Rip Van Winkle.\\'  It\\'s also here that we learn Irving was being less than flattering when he nicknamed the city in 1807.\"\\n\\n^ \"US Gazetteer files: 2010, 2000, and 1990\". United States Census Bureau. February 12, 2011. Retrieved April 23, 2011.\\n\\n^ \"ArcGIS REST Services Directory\". United States Census Bureau. Retrieved September 20, 2022.\\n\\n^ a b c d e f g h i QuickFacts for New York city, New York; New York; United States, United States Census Bureau. Accessed January 12, 2024.\\n\\n^ a b c d e \"Population Rebounds for Many Cities in Northeast and Midwest\", United States Census Bureau, May 16, 2024. Accessed May 20, 2024.', metadata={'source': 'https://en.wikipedia.org/wiki/New_York_City', 'title': 'New York City - Wikipedia', 'language': 'en'})]}"
      ]
     },
     "execution_count": 8,
     "metadata": {},
     "output_type": "execute_result"
    }
   ],
   "source": [
    "result"
   ]
  }
 ],
 "metadata": {
  "kernelspec": {
   "display_name": "ocbc_env",
   "language": "python",
   "name": "python3"
  },
  "language_info": {
   "codemirror_mode": {
    "name": "ipython",
    "version": 3
   },
   "file_extension": ".py",
   "mimetype": "text/x-python",
   "name": "python",
   "nbconvert_exporter": "python",
   "pygments_lexer": "ipython3",
   "version": "3.9.19"
  }
 },
 "nbformat": 4,
 "nbformat_minor": 2
}
