{
 "cells": [
  {
   "cell_type": "markdown",
   "metadata": {},
   "source": [
    "## Old (Loader)"
   ]
  },
  {
   "cell_type": "code",
   "execution_count": 1,
   "metadata": {},
   "outputs": [],
   "source": [
    "import os\n",
    "from ragas import evaluate\n",
    "from datasets import Dataset\n",
    "from ragas.metrics import faithfulness, answer_relevancy, context_precision, context_recall, context_entity_recall, answer_similarity, answer_correctness\n",
    "from constants import EVAL_ANSWERS, EVAL_QUESTIONS\n",
    "from ragas.metrics.critique import harmfulness"
   ]
  },
  {
   "cell_type": "code",
   "execution_count": 3,
   "metadata": {},
   "outputs": [],
   "source": [
    "from langchain_core.chat_history import BaseChatMessageHistory\n",
    "from conversation import CustomChatMessageHistory\n",
    "\n",
    "store = {}\n",
    "def get_session_history(session_id: str) -> BaseChatMessageHistory:\n",
    "    if session_id not in store:\n",
    "        store[session_id] = CustomChatMessageHistory()\n",
    "    return store[session_id]"
   ]
  },
  {
   "cell_type": "code",
   "execution_count": 4,
   "metadata": {},
   "outputs": [],
   "source": [
    "from langchain_core.runnables.history import RunnableWithMessageHistory\n",
    "from rag import caller_with_context, chain_with_context\n",
    "\n",
    "full_chain_with_context = chain_with_context()\n",
    "full_chain_with_context_and_message_history = RunnableWithMessageHistory(\n",
    "    full_chain_with_context,\n",
    "    get_session_history,\n",
    "    input_messages_key=\"question\",\n",
    "    history_messages_key=\"history\",\n",
    ")"
   ]
  },
  {
   "cell_type": "code",
   "execution_count": 5,
   "metadata": {},
   "outputs": [
    {
     "name": "stdout",
     "output_type": "stream",
     "text": [
      "{'result': 'ketentuan_terkait', 'question': 'Apa saja yang termasuk dalam Bank Pelapor?', 'history': []}\n"
     ]
    },
    {
     "name": "stderr",
     "output_type": "stream",
     "text": [
      "c:\\Users\\Bryan Delton\\anaconda3\\envs\\ocbc_env\\lib\\site-packages\\langchain_core\\_api\\beta_decorator.py:87: LangChainBetaWarning: The function `loads` is in beta. It is actively being worked on, so the API may change.\n",
      "  warn_beta(\n",
      "Error in RootListenersTracer.on_chain_end callback: KeyError('output')\n"
     ]
    }
   ],
   "source": [
    "sess_id = \"X123\"\n",
    "\n",
    "result = full_chain_with_context_and_message_history.invoke(\n",
    "        {\"question\": \"Apa saja yang termasuk dalam Bank Pelapor?\"},\n",
    "        config={\"configurable\": {\"session_id\": sess_id}})"
   ]
  },
  {
   "cell_type": "code",
   "execution_count": 6,
   "metadata": {},
   "outputs": [
    {
     "data": {
      "text/plain": [
       "{'query': 'Apa saja yang termasuk dalam Bank Pelapor?',\n",
       " 'result': 'Dalam konteks yang diberikan, tidak ada informasi yang menjelaskan mengenai apa yang termasuk dalam Bank Pelapor.',\n",
       " 'source_documents': [Document(page_content='Bank yang bersangkutan”, dengan mencantumkan keterangan bahwa\\npencairannya hanya dapat dilakukan setelah mendapat persetujuan\\ntertulis dari Dewan Gubernur Bank Indonesia; dan\\nj. surat pernyataan dari calon pemegang saham bagi Bank yang berbentuk badan hukum Perseroan Terbatas/Perusahaan Daerah atau dari calon anggota bagi Bank yang berbentuk badan hukum Koperasi, bahwa setoran modal sebagaimana dimaksud dalam huruf i:\\n1. tidak berasal dari pinjaman atau fasilitas pembiayaan dalam bentuk\\napapun dari Bank dan/atau pihak lain di Indonesia; dan/atau\\n2. tidak berasal dari dan untuk tujuan pencucian uang (money laundering).\\n(2) Daftar calon pemegang saham atau daftar calon anggota sebagaimana dimaksud pada ayat (1) huruf b:\\na. dalam hal perorangan wajib disertai dengan:\\ndokumen sebagaimana dimaksud pada ayat (1) huruf c angka 1\\nsampai dengan angka 5;\\ndokumen dan/atau surat pernyataan lainnya yang diperlukan oleh\\nBank Indonesia;\\nb. dalam hal badan hukum wajib disertai dengan:', metadata={'_id': ObjectId('6684f3c456bbd34eaf442482'), 'Nomor Ketentuan': '11/1/PBI/2009', 'Ketentuan': 'Pasal 7 ', 'Jenis Ketentuan': 'PBI', 'Judul Ketentuan': 'Bank_Umum'}),\n",
       "  Document(page_content='b. data kepemilikan berupa:\\ndaftar calon pemegang saham berikut rincian besarnya masing-masing kepemilikan saham bagi Bank yang berbentuk badan hukum Perseroan Terbatas/Perusahaan Daerah;\\n2. daftar calon anggota berikut rincian jumlah simpanan pokok dan simpanan wajib, serta daftar hibah bagi Bank yang berbentuk badan hukum Koperasi;\\nc. daftar calon anggota Dewan Komisaris dan anggota Direksi disertai dengan:\\n1. pas foto 1 (satu) bulan terakhir ukuran 4 x 6 cm;\\n2. fotokopi tanda pengenal berupa Kartu Tanda Penduduk (KTP) atau paspor yang masih berlaku;\\n3. riwayat hidup;\\n4. surat pernyataan pribadi yang menyatakan tidak pernah melakukan tindakan tercela di bidang perbankan, keuangan, dan usaha lainnya, tidak pernah dihukum karena terbukti melakukan tindak pidana kejahatan, dan tidak sedang tercantum dalam Daftar Tidak Lulus sebagaimana diatur dalam ketentuan mengenai Penilaian\\nKemampuan dan Kepatutan (Fit and Proper Test) yang ditetapkan oleh Bank Indonesia; dan', metadata={'_id': ObjectId('6684f3c456bbd34eaf44247f'), 'Nomor Ketentuan': '11/1/PBI/2009', 'Ketentuan': 'Pasal 7 ', 'Jenis Ketentuan': 'PBI', 'Judul Ketentuan': 'Bank_Umum'}),\n",
       "  Document(page_content='4. Dalam hal Bank Pelapor bermaksud menambah user id sebagaimana dimaksud pada angka 3, Bank Pelapor dikenakan biaya untuk setiap penambahan user id tersebut yang terdiri dari biaya lisensi sistem LHBU dan biaya pemeliharaan sistem LHBU yang masing-masing besarnya ditetapkan dalam Surat Edaran Bank Indonesia yang mengatur mengenai biaya LHBU.\\n5. Untuk penambahan user id sebagaimana dimaksud pada angka 4, Bank Pelapor mengajukan permohonan secara tertulis yang ditujukan kepada Bank Indonesia c.q. Unit Khusus Manajemen Informasi, Jl. M.H. Thamrin No.2, Jakarta 10350.', metadata={'_id': ObjectId('6684f3c456bbd34eaf4424c1'), 'Nomor Ketentuan': '13/3/DPM/2011', 'Ketentuan': 'Romawi VI ', 'Jenis Ketentuan': 'SEBI', 'Judul Ketentuan': 'Laporan_Harian_Bank_Umum'}),\n",
       "  Document(page_content='Nomor Ketentuan: 11/1/PBI/2009\\nKetentuan: Pasal 3 \\nmemiliki Isi ketentuan sebagai berikut: Bentuk hukum suatu Bank dapat berupa:\\na. Perseroan Terbatas;\\nb. Perusahaan Daerah; atau\\nc. Koperasi.\\nserta memiliki penjelasan tambahan sebagai berikut: Huruf a\\nTermasuk bentuk hukum Perseroan Terbatas adalah Perusahaan\\nPerseroan (PERSERO) sebagaimana dimaksud dalam peraturan\\nperundang-undangan yang berlaku.\\nHuruf b\\nCukup jelas.\\nHuruf c\\nCukup jelas.', metadata={'_id': ObjectId('6684f3c456bbd34eaf44247a'), 'Nomor Ketentuan': '11/1/PBI/2009', 'Ketentuan': 'Pasal 3 ', 'Jenis Ketentuan': 'PBI', 'Judul Ketentuan': 'Bank_Umum'}),\n",
       "  Document(page_content='Nomor Ketentuan: 11/1/PBI/2009\\nKetentuan: Pasal 6 \\nmemiliki Isi ketentuan sebagai berikut: (1) Bank hanya dapat didirikan dan/atau dimiliki oleh:\\na. warga negara Indonesia dan/atau badan hukum Indonesia; atau\\nb. warga negara Indonesia dan/atau badan hukum Indonesia dengan warga negara asing dan/atau badan hukum asing secara kemitraan.\\n(2) Kepemilikan oleh warga negara asing dan/atau badan hukum asing sebagaimana dimaksud pada ayat (1) huruf b paling banyak sebesar 99% (sembilan puluh sembilan persen) dari modal disetor Bank.\\nserta memiliki penjelasan tambahan sebagai berikut: Cukup jelas.', metadata={'_id': ObjectId('6684f3c456bbd34eaf44247d'), 'Nomor Ketentuan': '11/1/PBI/2009', 'Ketentuan': 'Pasal 6 ', 'Jenis Ketentuan': 'PBI', 'Judul Ketentuan': 'Bank_Umum'}),\n",
       "  Document(page_content='6. Dalam hal diperlukan, sewaktu-waktu Bank Indonesia dapat melakukan review terhadap daftar Bank Pelapor yang datanya digunakan dalam perhitungan data JIBOR.\\n7. Berdasarkan review sebagaimana dimaksud pada angka 5 dan angka 6,Bank Indonesia dapat melakukan antara lain penambahan, pengurangan dan/atau penggantian Bank-Bank Pelapor yang datanya digunakan dalam perhitungan data JIBOR.', metadata={'_id': ObjectId('6684f3c456bbd34eaf4424c3'), 'Nomor Ketentuan': '13/3/DPM/2011', 'Ketentuan': 'Romawi VII ', 'Jenis Ketentuan': 'SEBI', 'Judul Ketentuan': 'Laporan_Harian_Bank_Umum'}),\n",
       "  Document(page_content='Nomor Ketentuan: 11/1/PBI/2009\\nKetentuan: Pasal 7 \\nmemiliki Isi ketentuan sebagai berikut: (1) Permohonan untuk mendapatkan persetujuan prinsip sebagaimana dimaksud dalam Pasal 4 ayat (2) huruf a diajukan paling kurang oleh salah satu calon pemilik kepada Gubernur Bank Indonesia, disertai dengan:\\na. rancangan akta pendirian badan hukum, termasuk rancangan Anggaran Dasar yang paling kurang memuat:\\n1. nama dan tempat kedudukan;\\n2. kegiatan usaha sebagai Bank;\\n3. permodalan;\\n4. kepemilikan;\\n5. wewenang, tanggung jawab, dan masa jabatan anggota Dewan Komisaris serta anggota Direksi; dan\\n6. persyaratan bahwa pengangkatan anggota Dewan Komisaris dan anggota Direksi harus memperoleh persetujuan Bank Indonesia terlebih dahulu;\\nb. data kepemilikan berupa:\\ndaftar calon pemegang saham berikut rincian besarnya masing-masing kepemilikan saham bagi Bank yang berbentuk badan hukum Perseroan Terbatas/Perusahaan Daerah;', metadata={'_id': ObjectId('6684f3c456bbd34eaf44247e'), 'Nomor Ketentuan': '11/1/PBI/2009', 'Ketentuan': 'Pasal 7 ', 'Jenis Ketentuan': 'PBI', 'Judul Ketentuan': 'Bank_Umum'}),\n",
       "  Document(page_content='Angka 1\\nYang dimaksud dengan pihak lain antara lain meliputi lembaga keuangan non-bank, lembaga pembiayaan atau perusahaan.\\nTidak termasuk dalam pengertian pihak lain adalah Pemerintah Pusat, Pemerintah Daerah, atau lembaga lain yang diberikan tugas oleh pemerintah untuk menyelamatkan Bank.\\nAngka 2\\nCukup jelas.\\nAyat (2)\\nHuruf a\\nAngka 1\\nCukup jelas.\\nAngka 2\\nDokumen dan/atau surat pernyataan yang dimaksud pada angka ini antara lain adalah surat pernyataan dari calon PSP yang menyatakan niat baik dan kesediaannya untuk melakukan upaya-upaya yang diperlukan apabila Bank menghadapi kesulitan permodalan maupun likuiditas.\\nHuruf b\\nAngka 1\\nCukup jelas.\\nAngka 2\\nCukup jelas.\\nAngka 3\\nCukup jelas.\\nAngka 4\\nCukup jelas.\\nAngka 5\\nCukup jelas.\\nAngka 6\\nKewajiban menyampaikan data mengenai struktur kelompok usaha dikecualikan dalam hal pemilik Bank adalah Pemerintah Pusat atau Pemerintah Daerah.', metadata={'_id': ObjectId('6684f3c456bbd34eaf442488'), 'Nomor Ketentuan': '11/1/PBI/2009', 'Ketentuan': 'Pasal 7 ', 'Jenis Ketentuan': 'PBI', 'Judul Ketentuan': 'Bank_Umum'}),\n",
       "  Document(page_content='5. laporan keuangan badan hukum yang telah diaudit oleh akuntan\\npublik dengan posisi paling lama 6 (enam) bulan sebelum tanggal\\npengajuan permohonan persetujuan prinsip;\\n6. seluruh struktur kelompok usaha yang terkait dengan Bank dan\\nbadan hukum pemilik Bank sampai dengan pemilik terakhir; dan\\n7. dokumen dan/atau surat pernyataan lainnya yang diperlukan oleh\\nBank Indonesia;\\nc. dalam hal pemerintah, baik pusat atau daerah, wajib disertai dengan:\\n1. fotokopi dokumen yang menyatakan keputusan pembentukan\\nPemerintah Daerah bagi Pemerintah Daerah;\\n2. dokumen sebagaimana dimaksud pada ayat (1) huruf c angka 1 sampai dengan angka 5 dari pejabat yang berwenang mewakili pemerintah;\\n3. Anggaran Pendapatan dan Belanja; dan\\n4. dokumen dan/atau surat pernyataan lainnya yang diperlukan oleh\\nBank Indonesia.\\nserta memiliki penjelasan tambahan sebagai berikut: Ayat (1)\\nSalah satu calon pemilik ini bertindak mewakili pemilik lainnya.\\nDalam pelaksanaannya, permohonan dapat diajukan oleh PSP atau', metadata={'_id': ObjectId('6684f3c456bbd34eaf442484'), 'Nomor Ketentuan': '11/1/PBI/2009', 'Ketentuan': 'Pasal 7 ', 'Jenis Ketentuan': 'PBI', 'Judul Ketentuan': 'Bank_Umum'})]}"
      ]
     },
     "execution_count": 6,
     "metadata": {},
     "output_type": "execute_result"
    }
   ],
   "source": [
    "result"
   ]
  },
  {
   "cell_type": "code",
   "execution_count": 7,
   "metadata": {},
   "outputs": [
    {
     "name": "stdout",
     "output_type": "stream",
     "text": [
      "{'result': 'ketentuan_terkait', 'question': 'Apa saja yang termasuk dalam Bank Pelapor?', 'history': []}\n"
     ]
    },
    {
     "name": "stderr",
     "output_type": "stream",
     "text": [
      "Error in RootListenersTracer.on_chain_end callback: KeyError('output')\n"
     ]
    }
   ],
   "source": [
    "sess_id = \"X123\"\n",
    "\n",
    "result = full_chain_with_context_and_message_history.invoke(\n",
    "        {\"question\": \"Apa saja yang termasuk dalam Bank Pelapor?\"},\n",
    "        config={\"configurable\": {\"session_id\": sess_id}})"
   ]
  },
  {
   "cell_type": "code",
   "execution_count": null,
   "metadata": {},
   "outputs": [],
   "source": [
    "from ragas.metrics import faithfulness, answer_relevancy, context_relevancy, context_recall\n",
    "from ragas.langchain import RagasEvaluatorChain\n",
    "\n",
    "# make eval chains\n",
    "eval_chains = {\n",
    "    m.name: RagasEvaluatorChain(metric=m) \n",
    "    for m in [faithfulness, answer_relevancy, context_relevancy, context_recall]\n",
    "}\n"
   ]
  },
  {
   "cell_type": "markdown",
   "metadata": {},
   "source": [
    "## Evaluation Loading"
   ]
  },
  {
   "cell_type": "code",
   "execution_count": 8,
   "metadata": {},
   "outputs": [],
   "source": [
    "queries = EVAL_QUESTIONS\n",
    "ground_truths = EVAL_ANSWERS"
   ]
  },
  {
   "cell_type": "code",
   "execution_count": null,
   "metadata": {},
   "outputs": [],
   "source": [
    "sess_id = \"X123\"\n",
    "results = []\n",
    "contexts = []\n",
    "\n",
    "for query in queries:\n",
    "    result = full_chain_with_context_and_message_history.invoke(\n",
    "        {\"question\": query},\n",
    "        config={\"configurable\": {\"session_id\": sess_id}})\n",
    "    \n",
    "    print(result)\n",
    "    results.append(result['answer'])\n",
    "    sources = result[\"context\"]\n",
    "    contents = []\n",
    "    for i in range(len(sources)):\n",
    "        contents.append(sources[i][0].page_content)\n",
    "    contexts.append(contents)\n",
    "\n",
    "d = {\n",
    "    \"question\": queries,\n",
    "    \"answer\": results,\n",
    "    \"contexts\": contexts,\n",
    "    \"ground_truth\": ground_truths\n",
    "}\n",
    "\n",
    "dataset = Dataset.from_dict(d)"
   ]
  },
  {
   "cell_type": "code",
   "execution_count": null,
   "metadata": {},
   "outputs": [],
   "source": [
    "import json\n",
    "\n",
    "with open(\"dict_eval.json\", \"w\") as outfile: \n",
    "    json.dump(d, outfile)\n"
   ]
  },
  {
   "cell_type": "markdown",
   "metadata": {},
   "source": [
    "## Evaluation (Start)"
   ]
  },
  {
   "cell_type": "code",
   "execution_count": 43,
   "metadata": {},
   "outputs": [],
   "source": [
    "import nest_asyncio\n",
    "nest_asyncio.apply()\n"
   ]
  },
  {
   "cell_type": "code",
   "execution_count": 45,
   "metadata": {},
   "outputs": [],
   "source": [
    "from azure_config import azure_embeddings, azure_llm\n",
    "\n",
    "llm = azure_llm()\n",
    "embeddings = azure_embeddings()"
   ]
  },
  {
   "cell_type": "code",
   "execution_count": 34,
   "metadata": {},
   "outputs": [],
   "source": [
    "import json\n",
    "with open('dict_eval.json') as json_file:\n",
    "    d = json.load(json_file)\n"
   ]
  },
  {
   "cell_type": "code",
   "execution_count": 35,
   "metadata": {},
   "outputs": [],
   "source": [
    "from datasets import Dataset\n",
    "dataset = Dataset.from_dict(d)"
   ]
  },
  {
   "cell_type": "code",
   "execution_count": 36,
   "metadata": {},
   "outputs": [
    {
     "data": {
      "text/plain": [
       "Dataset({\n",
       "    features: ['question', 'answer', 'contexts', 'ground_truth'],\n",
       "    num_rows: 15\n",
       "})"
      ]
     },
     "execution_count": 36,
     "metadata": {},
     "output_type": "execute_result"
    }
   ],
   "source": [
    "dataset"
   ]
  },
  {
   "cell_type": "code",
   "execution_count": 46,
   "metadata": {},
   "outputs": [
    {
     "data": {
      "application/vnd.jupyter.widget-view+json": {
       "model_id": "ea900c3e425d4ab987856bf9daae24d1",
       "version_major": 2,
       "version_minor": 0
      },
      "text/plain": [
       "Evaluating:   0%|          | 0/105 [00:00<?, ?it/s]"
      ]
     },
     "metadata": {},
     "output_type": "display_data"
    }
   ],
   "source": [
    "from ragas.metrics import faithfulness, answer_relevancy, context_precision, context_recall, answer_similarity, answer_correctness\n",
    "from ragas.metrics.critique import harmfulness\n",
    "from ragas import evaluate\n",
    "\n",
    "score = evaluate(dataset, metrics=[faithfulness, answer_relevancy, context_precision, context_recall, answer_similarity, answer_correctness, harmfulness], llm=llm, embeddings=embeddings,    )"
   ]
  },
  {
   "cell_type": "code",
   "execution_count": 53,
   "metadata": {},
   "outputs": [
    {
     "name": "stdout",
     "output_type": "stream",
     "text": [
      "faithfulness: 0.9\n",
      "answer_relevancy: 0.8431298070325102\n",
      "context_precision: 0.9491269841042763\n",
      "context_recall: 0.9333333333333333\n",
      "answer_similarity: 0.9477354700664868\n",
      "answer_correctness: 0.647171962754717\n",
      "harmfulness: 0.0\n"
     ]
    }
   ],
   "source": [
    "for key,val in score.items():\n",
    "    print(f\"{key}: {val}\")"
   ]
  }
 ],
 "metadata": {
  "kernelspec": {
   "display_name": "ocbc_env",
   "language": "python",
   "name": "python3"
  },
  "language_info": {
   "codemirror_mode": {
    "name": "ipython",
    "version": 3
   },
   "file_extension": ".py",
   "mimetype": "text/x-python",
   "name": "python",
   "nbconvert_exporter": "python",
   "pygments_lexer": "ipython3",
   "version": "3.9.19"
  }
 },
 "nbformat": 4,
 "nbformat_minor": 2
}
